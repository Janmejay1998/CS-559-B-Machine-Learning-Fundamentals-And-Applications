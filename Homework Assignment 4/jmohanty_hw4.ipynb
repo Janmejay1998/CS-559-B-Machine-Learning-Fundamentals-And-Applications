{
 "cells": [
  {
   "cell_type": "code",
   "execution_count": null,
   "id": "a770667a",
   "metadata": {},
   "outputs": [],
   "source": [
    "import numpy as np\n",
    "import pandas as pd\n",
    "from scipy.stats import multivariate_normal\n",
    "from scipy.stats import mode\n",
    "from sklearn.metrics import confusion_matrix\n",
    "import matplotlib.pyplot as plt\n",
    "X = pd.read_csv('points.dat.txt', sep = \" \", header=None)"
   ]
  },
  {
   "cell_type": "code",
   "execution_count": null,
   "id": "268bf647",
   "metadata": {},
   "outputs": [],
   "source": [
    "#Reference from http://www.oranlooney.com/post/ml-from-scratch-part-5-gmm/\n",
    "class GMM:\n",
    "    def __init__(self, k, max_iter=5):\n",
    "        self.k = k\n",
    "        self.max_iter = int(max_iter)\n",
    "\n",
    "    def initialize(self, X):\n",
    "        self.shape = X.shape\n",
    "        self.n, self.m = self.shape\n",
    "\n",
    "        self.phi = np.full(shape=self.k, fill_value=1/self.k)\n",
    "        self.weights = np.full( shape=self.shape, fill_value=1/self.k)\n",
    "        \n",
    "        random_row = np.random.randint(low=0, high=self.n, size=self.k)\n",
    "        self.mu = [  X[row_index,:] for row_index in random_row ]\n",
    "        self.sigma = [ np.cov(X.T) for _ in range(self.k) ]\n",
    "\n",
    "    def e_step(self, X):\n",
    "        self.weights = self.predict_proba(X)\n",
    "        self.phi = self.weights.mean(axis=0)\n",
    "    \n",
    "    def m_step(self, X):\n",
    "        for i in range(self.k):\n",
    "            weight = self.weights[:, [i]]\n",
    "            total_weight = weight.sum()\n",
    "            self.mu[i] = (X * weight).sum(axis=0) / total_weight\n",
    "            self.sigma[i] = np.cov(X.T, \n",
    "                aweights=(weight/total_weight).flatten(), \n",
    "                bias=True)\n",
    "\n",
    "    def fit(self, X):\n",
    "        self.initialize(X)\n",
    "        \n",
    "        for iteration in range(self.max_iter):\n",
    "            self.e_step(X)\n",
    "            self.m_step(X)\n",
    "            \n",
    "    def predict_proba(self, X):\n",
    "        likelihood = np.zeros( (self.n, self.k) )\n",
    "        for i in range(self.k):\n",
    "            distribution = multivariate_normal(\n",
    "                mean=self.mu[i], \n",
    "                cov=self.sigma[i])\n",
    "            likelihood[:,i] = distribution.pdf(X)\n",
    "        \n",
    "        numerator = likelihood * self.phi\n",
    "        denominator = numerator.sum(axis=1)[:, np.newaxis]\n",
    "        weights = numerator / denominator\n",
    "        return weights\n",
    "    \n",
    "    def predict(self, X):\n",
    "        weights = self.predict_proba(X)\n",
    "        return np.argmax(weights, axis=1)"
   ]
  },
  {
   "cell_type": "code",
   "execution_count": null,
   "id": "09537e94",
   "metadata": {},
   "outputs": [],
   "source": [
    "gmm = GMM(10,5)"
   ]
  },
  {
   "cell_type": "code",
   "execution_count": null,
   "id": "c90b51be",
   "metadata": {},
   "outputs": [],
   "source": [
    "gm = gmm.fit(X)"
   ]
  }
 ],
 "metadata": {
  "kernelspec": {
   "display_name": "Python 3",
   "language": "python",
   "name": "python3"
  },
  "language_info": {
   "codemirror_mode": {
    "name": "ipython",
    "version": 3
   },
   "file_extension": ".py",
   "mimetype": "text/x-python",
   "name": "python",
   "nbconvert_exporter": "python",
   "pygments_lexer": "ipython3",
   "version": "3.10.4"
  }
 },
 "nbformat": 4,
 "nbformat_minor": 5
}
